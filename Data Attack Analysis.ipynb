{
 "cells": [
  {
   "cell_type": "code",
   "execution_count": null,
   "metadata": {},
   "outputs": [],
   "source": [
    "import cv2\n",
    "\n",
    "from main import face_haar_cascade, image\n",
    "\n",
    "capture =cv2.VideoCapture(0)\n",
    "face_haar_cascade = cv2(image, cv2.cascadeclassifier('haarcascade'))\n",
    "\n",
    "while True:\n",
    "    gray = cv2.cvtColor(capture, cv2.COLOR_BGR2GRAY)\n",
    "    faces = face_haar_cascade(gray,1.1,4)\n",
    "\n",
    "    for (x,y,w,h) in faces:\n",
    "        cv2.rectangle(capture,(x,y),(x+w, y+h),(0, 255, 0),2)\n",
    "        cv2.imshow('Faces', face_haar_cascade)\n",
    "        cv2.waitKey(30) & 0xFF\n",
    "        if 1 == 27:\n",
    "            break\n",
    "    cv2.release()"
   ]
  }
 ],
 "metadata": {
  "language_info": {
   "name": "python"
  }
 },
 "nbformat": 4,
 "nbformat_minor": 2
}
